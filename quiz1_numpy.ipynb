{
  "nbformat": 4,
  "nbformat_minor": 0,
  "metadata": {
    "colab": {
      "provenance": [],
      "collapsed_sections": []
    },
    "kernelspec": {
      "name": "python3",
      "display_name": "Python 3"
    },
    "language_info": {
      "name": "python"
    }
  },
  "cells": [
    {
      "cell_type": "code",
      "execution_count": 113,
      "metadata": {
        "id": "lw9Ac8ROVw9w",
        "colab": {
          "base_uri": "https://localhost:8080/"
        },
        "outputId": "be737f92-0f8e-49be-c6ec-a4c03db7a90c"
      },
      "outputs": [
        {
          "output_type": "stream",
          "name": "stdout",
          "text": [
            "Populating the interactive namespace from numpy and matplotlib\n"
          ]
        }
      ],
      "source": [
        "#Importing the necessary libraries\n",
        "\n",
        "%pylab inline \n",
        "import numpy as np\n"
      ]
    },
    {
      "cell_type": "code",
      "source": [
        "#PART I\n",
        "#Initializing the array\n",
        "\n",
        "y_hat = np.linspace(-1., 1., 20)  #(From -1 to 1, with 20 spaces)\n",
        "y     = np.linspace( 0., 1., 20)  #(From  0 to 1, with 20 spaces)"
      ],
      "metadata": {
        "id": "VaRpuWBNXg_e"
      },
      "execution_count": null,
      "outputs": []
    },
    {
      "cell_type": "code",
      "source": [
        "#Prints the two initialized array\n",
        "\n",
        "print(y_hat)\n",
        "print(y)"
      ],
      "metadata": {
        "id": "PIfXOL8AZJ9F",
        "colab": {
          "base_uri": "https://localhost:8080/"
        },
        "outputId": "cc095a8c-750d-464a-9ba7-d6ebd039a14b"
      },
      "execution_count": 115,
      "outputs": [
        {
          "output_type": "stream",
          "name": "stdout",
          "text": [
            "[-1.         -0.89473684 -0.78947368 -0.68421053 -0.57894737 -0.47368421\n",
            " -0.36842105 -0.26315789 -0.15789474 -0.05263158  0.05263158  0.15789474\n",
            "  0.26315789  0.36842105  0.47368421  0.57894737  0.68421053  0.78947368\n",
            "  0.89473684  1.        ]\n",
            "[0.         0.05263158 0.10526316 0.15789474 0.21052632 0.26315789\n",
            " 0.31578947 0.36842105 0.42105263 0.47368421 0.52631579 0.57894737\n",
            " 0.63157895 0.68421053 0.73684211 0.78947368 0.84210526 0.89473684\n",
            " 0.94736842 1.        ]\n"
          ]
        }
      ]
    },
    {
      "cell_type": "code",
      "source": [
        "#Displays the shape of both array\n",
        "\n",
        "print('shape of y_hat array :', y_hat.shape)\n",
        "print('shape of y array :', y.shape)\n",
        "\n",
        "#Displays the dimensions of both array\n",
        "\n",
        "print('Dimension of y_hat array: ' , y_hat.ndim)\n",
        "print('Dimension of y array: ' , y.ndim)"
      ],
      "metadata": {
        "id": "fi_D_3RWZOwU",
        "colab": {
          "base_uri": "https://localhost:8080/"
        },
        "outputId": "8dbc327d-2548-48ad-84f3-57aa273e983b"
      },
      "execution_count": 116,
      "outputs": [
        {
          "output_type": "stream",
          "name": "stdout",
          "text": [
            "shape of y_hat array : (20,)\n",
            "shape of y array : (20,)\n",
            "Dimension of y_hat array:  1\n",
            "Dimension of y array:  1\n"
          ]
        }
      ]
    },
    {
      "cell_type": "code",
      "source": [
        "#This function computes the Mean Squared Error\n",
        "\n",
        "def mean_squared_error(y_bar, y):\n",
        "\n",
        "   diff = y - y_bar\n",
        "   differences_squared = diff ** 2\n",
        "   mean_diff = differences_squared.mean()\n",
        "   \n",
        "   return mean_diff\n",
        "\n",
        "print(\"The Mean Squared Error is: \", mean_squared_error(y_hat,y))"
      ],
      "metadata": {
        "colab": {
          "base_uri": "https://localhost:8080/"
        },
        "id": "NQgtzlfff3sL",
        "outputId": "0ad8cb25-1db9-4b68-d8e4-07721c40fc64"
      },
      "execution_count": null,
      "outputs": [
        {
          "output_type": "stream",
          "name": "stdout",
          "text": [
            "The Mean Squared Error is:  0.3421052631578948\n"
          ]
        }
      ]
    },
    {
      "cell_type": "code",
      "source": [
        "#This function computes the Mean Squared Logarithmic Error\n",
        "\n",
        "\n",
        "def mean_squared_logarithmic(y_bar,y):\n",
        "  summation = 0  \n",
        "  n = len(y) \n",
        "  for i in range (0,n): \n",
        "    difference = y[i] - y_bar[i]  \n",
        "    squared_difference = difference**2  \n",
        "    summation = summation + squared_difference  \n",
        "  MSE = summation/n  \n",
        "  return summation\n",
        "\n",
        "print(\"The Mean Square Logarithmic Error is: \" , mean_squared_logarithmic(y_hat,y))"
      ],
      "metadata": {
        "id": "7oi-CHwUgQni",
        "colab": {
          "base_uri": "https://localhost:8080/"
        },
        "outputId": "d83a9e1b-fce1-4cb2-a50a-e570c208cc02"
      },
      "execution_count": 117,
      "outputs": [
        {
          "output_type": "stream",
          "name": "stdout",
          "text": [
            "The Mean Square Logarithmic Error is:  6.842105263157895\n"
          ]
        }
      ]
    },
    {
      "cell_type": "code",
      "source": [
        "#This function computes the Mean Absolute Error\n",
        "\n",
        "def mean_absolute_error(y_bar, y):\n",
        "    diff = y - y_bar\n",
        "    absolute_diff = np.absolute(diff)\n",
        "    mean_difference = absolute_diff.mean()\n",
        "    return mean_difference\n",
        "\n",
        "print(\"The Mean absolute Error is: \", mean_absolute_error(y_hat,y))"
      ],
      "metadata": {
        "colab": {
          "base_uri": "https://localhost:8080/"
        },
        "id": "EWGm2raJKt0y",
        "outputId": "faa953b1-aa27-43bd-9d62-417a7d55e4c0"
      },
      "execution_count": null,
      "outputs": [
        {
          "output_type": "stream",
          "name": "stdout",
          "text": [
            "The Mean absolute Error is:  0.4999999999999999\n"
          ]
        }
      ]
    },
    {
      "cell_type": "code",
      "source": [
        "#This function computes the Mean Absolute Percentage Error\n",
        "\n",
        "def mean_absolute_percentage_error(y_bar, y): \n",
        "    y_bar, pred = np.array(y_bar), np.array(y)\n",
        "    return np.mean(np.abs((y_bar - y) / y_bar)) \n",
        "\n",
        "print(\"The mean absolute percentage Error is: \", mean_absolute_percentage_error(y_hat,y))"
      ],
      "metadata": {
        "colab": {
          "base_uri": "https://localhost:8080/"
        },
        "id": "n8nGE0FJLT1h",
        "outputId": "9faa043a-18c0-4f17-9fa1-f7767acfd265"
      },
      "execution_count": 118,
      "outputs": [
        {
          "output_type": "stream",
          "name": "stdout",
          "text": [
            "The mean absolute percentage Error is:  2.0265927536515775\n"
          ]
        }
      ]
    },
    {
      "cell_type": "code",
      "source": [
        "#PART II\n",
        "\n",
        "#Creates a 1D array, with content 1 to 16\n",
        "M = np.arange(1,17)\n",
        "\n",
        "#Reshape the 1D array to 4x4 \n",
        "N = M.reshape(4, 4)\n",
        "\n",
        "print(\"The new dimension of the array M: \\n\", n)\n",
        "print(\"Print the 2nd row of N: \\n\", N[1:2])"
      ],
      "metadata": {
        "colab": {
          "base_uri": "https://localhost:8080/"
        },
        "id": "eS-HTcVMSyWU",
        "outputId": "654a1a78-e605-4272-fd22-c8b276283837"
      },
      "execution_count": 123,
      "outputs": [
        {
          "output_type": "stream",
          "name": "stdout",
          "text": [
            "The new dimension of the array M: \n",
            " [[ 1  2  3  4]\n",
            " [ 5  6  7  8]\n",
            " [ 9 10 11 12]\n",
            " [13 14 15 16]]\n",
            "Print the 2nd row of N: \n",
            " [[5 6 7 8]]\n"
          ]
        }
      ]
    },
    {
      "cell_type": "code",
      "source": [
        "#Prints the minimum value per column\n",
        "\n",
        "MinVal_perColumns = np.amin(N, axis=0)\n",
        "print(\"The minimum value per columns are: \", MinVal_perColumns)"
      ],
      "metadata": {
        "colab": {
          "base_uri": "https://localhost:8080/"
        },
        "id": "dT93foJYW_OE",
        "outputId": "a0e12ea2-5b05-429b-9548-8bfa9be1eeb8"
      },
      "execution_count": 124,
      "outputs": [
        {
          "output_type": "stream",
          "name": "stdout",
          "text": [
            "The minimum value per columns are:  [1 2 3 4]\n"
          ]
        }
      ]
    },
    {
      "cell_type": "code",
      "source": [
        "#Prints the average of matrix N\n",
        "\n",
        "average_of_matrix = np.average(N)\n",
        "\n",
        "print(\"The average of the matrix N is :\",average_of_matrix)"
      ],
      "metadata": {
        "id": "FopmXCOeXoGN",
        "colab": {
          "base_uri": "https://localhost:8080/"
        },
        "outputId": "dd59c8db-c0c6-4355-c85d-0b652226e38e"
      },
      "execution_count": 125,
      "outputs": [
        {
          "output_type": "stream",
          "name": "stdout",
          "text": [
            "The average of the matrix N is : 8.5\n"
          ]
        }
      ]
    },
    {
      "cell_type": "code",
      "source": [
        "#Creates a vector\n",
        "\n",
        "V = np.array([1, 1, 1, 1])\n",
        "print(\"The content of vector V are: \", V)"
      ],
      "metadata": {
        "colab": {
          "base_uri": "https://localhost:8080/"
        },
        "id": "_XU0wxqPb8Z-",
        "outputId": "79040bbe-5c1c-412b-ba88-61e6ae334054"
      },
      "execution_count": 109,
      "outputs": [
        {
          "output_type": "stream",
          "name": "stdout",
          "text": [
            "The content of vector V are:  [1 1 1 1]\n"
          ]
        }
      ]
    },
    {
      "cell_type": "code",
      "source": [
        "#Print the dot product of N and V\n",
        "\n",
        "dot_product = np.dot(N,V)\n",
        "print(\"The dot product of N and V are: \", dot_product)"
      ],
      "metadata": {
        "colab": {
          "base_uri": "https://localhost:8080/"
        },
        "id": "7wbM3DX1cae9",
        "outputId": "53415bb7-a7c1-426a-fb21-b8a1f55d4fad"
      },
      "execution_count": 126,
      "outputs": [
        {
          "output_type": "stream",
          "name": "stdout",
          "text": [
            "The dot product of N and V are:  [10 26 42 58]\n"
          ]
        }
      ]
    }
  ]
}